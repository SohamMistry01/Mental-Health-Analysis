{
 "cells": [
  {
   "cell_type": "code",
   "execution_count": 15,
   "id": "d5d6e90a",
   "metadata": {},
   "outputs": [],
   "source": [
    "import pandas as pd\n",
    "import numpy as np"
   ]
  },
  {
   "cell_type": "code",
   "execution_count": 16,
   "id": "0f1bf3d4",
   "metadata": {},
   "outputs": [
    {
     "data": {
      "text/html": [
       "<div>\n",
       "<style scoped>\n",
       "    .dataframe tbody tr th:only-of-type {\n",
       "        vertical-align: middle;\n",
       "    }\n",
       "\n",
       "    .dataframe tbody tr th {\n",
       "        vertical-align: top;\n",
       "    }\n",
       "\n",
       "    .dataframe thead th {\n",
       "        text-align: right;\n",
       "    }\n",
       "</style>\n",
       "<table border=\"1\" class=\"dataframe\">\n",
       "  <thead>\n",
       "    <tr style=\"text-align: right;\">\n",
       "      <th></th>\n",
       "      <th>User_ID</th>\n",
       "      <th>Age</th>\n",
       "      <th>Gender</th>\n",
       "      <th>Occupation</th>\n",
       "      <th>Country</th>\n",
       "      <th>Mental_Health_Condition</th>\n",
       "      <th>Severity</th>\n",
       "      <th>Consultation_History</th>\n",
       "      <th>Stress_Level</th>\n",
       "      <th>Sleep_Hours</th>\n",
       "      <th>Work_Hours</th>\n",
       "      <th>Physical_Activity_Hours</th>\n",
       "      <th>Social_Media_Usage</th>\n",
       "      <th>Diet_Quality</th>\n",
       "      <th>Smoking_Habit</th>\n",
       "      <th>Alcohol_Consumption</th>\n",
       "      <th>Medication_Usage</th>\n",
       "    </tr>\n",
       "  </thead>\n",
       "  <tbody>\n",
       "    <tr>\n",
       "      <th>0</th>\n",
       "      <td>1</td>\n",
       "      <td>36</td>\n",
       "      <td>Male</td>\n",
       "      <td>Education</td>\n",
       "      <td>Australia</td>\n",
       "      <td>Yes</td>\n",
       "      <td>NaN</td>\n",
       "      <td>Yes</td>\n",
       "      <td>Low</td>\n",
       "      <td>7.6</td>\n",
       "      <td>46</td>\n",
       "      <td>8</td>\n",
       "      <td>2.2</td>\n",
       "      <td>Healthy</td>\n",
       "      <td>Regular Smoker</td>\n",
       "      <td>Regular Drinker</td>\n",
       "      <td>Yes</td>\n",
       "    </tr>\n",
       "    <tr>\n",
       "      <th>1</th>\n",
       "      <td>2</td>\n",
       "      <td>48</td>\n",
       "      <td>Male</td>\n",
       "      <td>Engineering</td>\n",
       "      <td>Other</td>\n",
       "      <td>No</td>\n",
       "      <td>Low</td>\n",
       "      <td>No</td>\n",
       "      <td>Low</td>\n",
       "      <td>6.8</td>\n",
       "      <td>74</td>\n",
       "      <td>2</td>\n",
       "      <td>3.4</td>\n",
       "      <td>Unhealthy</td>\n",
       "      <td>Heavy Smoker</td>\n",
       "      <td>Social Drinker</td>\n",
       "      <td>No</td>\n",
       "    </tr>\n",
       "    <tr>\n",
       "      <th>2</th>\n",
       "      <td>3</td>\n",
       "      <td>18</td>\n",
       "      <td>Prefer not to say</td>\n",
       "      <td>Sales</td>\n",
       "      <td>India</td>\n",
       "      <td>No</td>\n",
       "      <td>NaN</td>\n",
       "      <td>Yes</td>\n",
       "      <td>Medium</td>\n",
       "      <td>7.1</td>\n",
       "      <td>77</td>\n",
       "      <td>9</td>\n",
       "      <td>5.9</td>\n",
       "      <td>Healthy</td>\n",
       "      <td>Heavy Smoker</td>\n",
       "      <td>Social Drinker</td>\n",
       "      <td>No</td>\n",
       "    </tr>\n",
       "    <tr>\n",
       "      <th>3</th>\n",
       "      <td>4</td>\n",
       "      <td>30</td>\n",
       "      <td>Non-binary</td>\n",
       "      <td>Engineering</td>\n",
       "      <td>Australia</td>\n",
       "      <td>No</td>\n",
       "      <td>Medium</td>\n",
       "      <td>No</td>\n",
       "      <td>Low</td>\n",
       "      <td>6.9</td>\n",
       "      <td>57</td>\n",
       "      <td>4</td>\n",
       "      <td>5.4</td>\n",
       "      <td>Average</td>\n",
       "      <td>Regular Smoker</td>\n",
       "      <td>Regular Drinker</td>\n",
       "      <td>No</td>\n",
       "    </tr>\n",
       "    <tr>\n",
       "      <th>4</th>\n",
       "      <td>5</td>\n",
       "      <td>58</td>\n",
       "      <td>Male</td>\n",
       "      <td>IT</td>\n",
       "      <td>USA</td>\n",
       "      <td>Yes</td>\n",
       "      <td>NaN</td>\n",
       "      <td>Yes</td>\n",
       "      <td>High</td>\n",
       "      <td>4.7</td>\n",
       "      <td>45</td>\n",
       "      <td>10</td>\n",
       "      <td>3.3</td>\n",
       "      <td>Unhealthy</td>\n",
       "      <td>Regular Smoker</td>\n",
       "      <td>Non-Drinker</td>\n",
       "      <td>Yes</td>\n",
       "    </tr>\n",
       "  </tbody>\n",
       "</table>\n",
       "</div>"
      ],
      "text/plain": [
       "   User_ID  Age             Gender   Occupation    Country  \\\n",
       "0        1   36               Male    Education  Australia   \n",
       "1        2   48               Male  Engineering      Other   \n",
       "2        3   18  Prefer not to say        Sales      India   \n",
       "3        4   30         Non-binary  Engineering  Australia   \n",
       "4        5   58               Male           IT        USA   \n",
       "\n",
       "  Mental_Health_Condition Severity Consultation_History Stress_Level  \\\n",
       "0                     Yes      NaN                  Yes          Low   \n",
       "1                      No      Low                   No          Low   \n",
       "2                      No      NaN                  Yes       Medium   \n",
       "3                      No   Medium                   No          Low   \n",
       "4                     Yes      NaN                  Yes         High   \n",
       "\n",
       "   Sleep_Hours  Work_Hours  Physical_Activity_Hours  Social_Media_Usage  \\\n",
       "0          7.6          46                        8                 2.2   \n",
       "1          6.8          74                        2                 3.4   \n",
       "2          7.1          77                        9                 5.9   \n",
       "3          6.9          57                        4                 5.4   \n",
       "4          4.7          45                       10                 3.3   \n",
       "\n",
       "  Diet_Quality   Smoking_Habit Alcohol_Consumption Medication_Usage  \n",
       "0      Healthy  Regular Smoker     Regular Drinker              Yes  \n",
       "1    Unhealthy    Heavy Smoker      Social Drinker               No  \n",
       "2      Healthy    Heavy Smoker      Social Drinker               No  \n",
       "3      Average  Regular Smoker     Regular Drinker               No  \n",
       "4    Unhealthy  Regular Smoker         Non-Drinker              Yes  "
      ]
     },
     "execution_count": 16,
     "metadata": {},
     "output_type": "execute_result"
    }
   ],
   "source": [
    "df = pd.read_csv('mental_health_data.csv')\n",
    "df.head()"
   ]
  },
  {
   "cell_type": "code",
   "execution_count": 17,
   "id": "1950a201",
   "metadata": {},
   "outputs": [
    {
     "name": "stdout",
     "output_type": "stream",
     "text": [
      "<class 'pandas.core.frame.DataFrame'>\n",
      "RangeIndex: 50000 entries, 0 to 49999\n",
      "Data columns (total 17 columns):\n",
      " #   Column                   Non-Null Count  Dtype  \n",
      "---  ------                   --------------  -----  \n",
      " 0   User_ID                  50000 non-null  int64  \n",
      " 1   Age                      50000 non-null  int64  \n",
      " 2   Gender                   50000 non-null  object \n",
      " 3   Occupation               50000 non-null  object \n",
      " 4   Country                  50000 non-null  object \n",
      " 5   Mental_Health_Condition  50000 non-null  object \n",
      " 6   Severity                 24998 non-null  object \n",
      " 7   Consultation_History     50000 non-null  object \n",
      " 8   Stress_Level             50000 non-null  object \n",
      " 9   Sleep_Hours              50000 non-null  float64\n",
      " 10  Work_Hours               50000 non-null  int64  \n",
      " 11  Physical_Activity_Hours  50000 non-null  int64  \n",
      " 12  Social_Media_Usage       50000 non-null  float64\n",
      " 13  Diet_Quality             50000 non-null  object \n",
      " 14  Smoking_Habit            50000 non-null  object \n",
      " 15  Alcohol_Consumption      50000 non-null  object \n",
      " 16  Medication_Usage         50000 non-null  object \n",
      "dtypes: float64(2), int64(4), object(11)\n",
      "memory usage: 6.5+ MB\n"
     ]
    }
   ],
   "source": [
    "df.info()"
   ]
  },
  {
   "cell_type": "code",
   "execution_count": 18,
   "id": "b9ddbdb6",
   "metadata": {},
   "outputs": [
    {
     "name": "stdout",
     "output_type": "stream",
     "text": [
      "Gender\n",
      "Female               12633\n",
      "Prefer not to say    12558\n",
      "Male                 12473\n",
      "Non-binary           12336\n",
      "Name: count, dtype: int64\n",
      "\n",
      "Occupation\n",
      "Finance        7286\n",
      "IT             7281\n",
      "Other          7112\n",
      "Healthcare     7105\n",
      "Education      7089\n",
      "Engineering    7072\n",
      "Sales          7055\n",
      "Name: count, dtype: int64\n",
      "\n",
      "Country\n",
      "India        7323\n",
      "USA          7271\n",
      "Germany      7156\n",
      "Canada       7149\n",
      "Other        7124\n",
      "Australia    7014\n",
      "UK           6963\n",
      "Name: count, dtype: int64\n",
      "\n",
      "Mental_Health_Condition\n",
      "No     25003\n",
      "Yes    24997\n",
      "Name: count, dtype: int64\n",
      "\n",
      "Severity\n",
      "None      25002\n",
      "Medium     8436\n",
      "High       8301\n",
      "Low        8261\n",
      "Name: count, dtype: int64\n",
      "\n",
      "Consultation_History\n",
      "No     25110\n",
      "Yes    24890\n",
      "Name: count, dtype: int64\n",
      "\n",
      "Stress_Level\n",
      "Medium    16847\n",
      "High      16707\n",
      "Low       16446\n",
      "Name: count, dtype: int64\n",
      "\n",
      "Diet_Quality\n",
      "Unhealthy    16729\n",
      "Healthy      16638\n",
      "Average      16633\n",
      "Name: count, dtype: int64\n",
      "\n",
      "Smoking_Habit\n",
      "Non-Smoker           12580\n",
      "Occasional Smoker    12556\n",
      "Regular Smoker       12438\n",
      "Heavy Smoker         12426\n",
      "Name: count, dtype: int64\n",
      "\n",
      "Alcohol_Consumption\n",
      "Regular Drinker    12531\n",
      "Non-Drinker        12507\n",
      "Social Drinker     12488\n",
      "Heavy Drinker      12474\n",
      "Name: count, dtype: int64\n",
      "\n",
      "Medication_Usage\n",
      "No     25174\n",
      "Yes    24826\n",
      "Name: count, dtype: int64\n"
     ]
    }
   ],
   "source": [
    "df['Severity'] = df['Severity'].fillna('None')\n",
    "df = df.drop('User_ID', axis=1)\n",
    "\n",
    "print(df['Gender'].value_counts())\n",
    "print(f\"\\n{df['Occupation'].value_counts()}\")\n",
    "print(f\"\\n{df['Country'].value_counts()}\")\n",
    "print(f\"\\n{df['Mental_Health_Condition'].value_counts()}\")\n",
    "print(f\"\\n{df['Severity'].value_counts()}\")\n",
    "print(f\"\\n{df['Consultation_History'].value_counts()}\")\n",
    "print(f\"\\n{df['Stress_Level'].value_counts()}\")\n",
    "print(f\"\\n{df['Diet_Quality'].value_counts()}\")\n",
    "print(f\"\\n{df['Smoking_Habit'].value_counts()}\")\n",
    "print(f\"\\n{df['Alcohol_Consumption'].value_counts()}\")\n",
    "print(f\"\\n{df['Medication_Usage'].value_counts()}\")"
   ]
  },
  {
   "cell_type": "code",
   "execution_count": 19,
   "id": "961b78c6",
   "metadata": {},
   "outputs": [
    {
     "name": "stdout",
     "output_type": "stream",
     "text": [
      "✅ Feature types identified successfully!\n",
      "Numerical: ['Age', 'Sleep_Hours', 'Work_Hours', 'Physical_Activity_Hours', 'Social_Media_Usage']\n",
      "Ordinal: ['Severity', 'Stress_Level', 'Diet_Quality', 'Smoking_Habit', 'Alcohol_Consumption']\n",
      "Nominal: ['Gender', 'Occupation', 'Consultation_History', 'Medication_Usage']\n"
     ]
    }
   ],
   "source": [
    "# --- 1. Numerical Features ---\n",
    "# These are continuous or discrete numbers.\n",
    "numerical_features = [\n",
    "    'Age',\n",
    "    'Sleep_Hours',\n",
    "    'Work_Hours',\n",
    "    'Physical_Activity_Hours',\n",
    "    'Social_Media_Usage'\n",
    "]\n",
    "\n",
    "# --- 2. Ordinal Features (Order Matters) ---\n",
    "# We must define the exact order for each of these features.\n",
    "ordinal_features = [\n",
    "    'Severity',\n",
    "    'Stress_Level',\n",
    "    'Diet_Quality',\n",
    "    'Smoking_Habit',\n",
    "    'Alcohol_Consumption'\n",
    "]\n",
    "\n",
    "# Define the explicit order for each ordinal feature\n",
    "severity_order = ['None', 'Low', 'Medium', 'High']\n",
    "stress_order = ['Low', 'Medium', 'High']\n",
    "diet_order = ['Healthy', 'Average', 'Unhealthy']\n",
    "smoking_order = ['Non-Smoker', 'Occasional Smoker', 'Regular Smoker', 'Heavy Smoker']\n",
    "alcohol_order = ['Non-Drinker', 'Social Drinker', 'Regular Drinker', 'Heavy Drinker']\n",
    "\n",
    "# --- 3. Nominal Features (Order Does Not Matter) ---\n",
    "# These will be one-hot encoded. We are excluding 'Country'.\n",
    "nominal_features = [\n",
    "    'Gender',\n",
    "    'Occupation',\n",
    "    'Consultation_History',\n",
    "    'Medication_Usage'\n",
    "]\n",
    "\n",
    "print(\"✅ Feature types identified successfully!\")\n",
    "print(f\"Numerical: {numerical_features}\")\n",
    "print(f\"Ordinal: {ordinal_features}\")\n",
    "print(f\"Nominal: {nominal_features}\")"
   ]
  },
  {
   "cell_type": "code",
   "execution_count": 20,
   "id": "634c0897",
   "metadata": {},
   "outputs": [
    {
     "name": "stdout",
     "output_type": "stream",
     "text": [
      "✅ Preprocessing pipeline created.\n"
     ]
    }
   ],
   "source": [
    "from sklearn.compose import ColumnTransformer\n",
    "from sklearn.preprocessing import StandardScaler, OrdinalEncoder, OneHotEncoder\n",
    "\n",
    "# Define the transformers for each feature type\n",
    "preprocessor = ColumnTransformer(\n",
    "    transformers=[\n",
    "        ('num', StandardScaler(), numerical_features),\n",
    "        ('ord', OrdinalEncoder(categories=[severity_order, stress_order, diet_order, smoking_order, alcohol_order]), ordinal_features),\n",
    "        ('nom', OneHotEncoder(handle_unknown='ignore', sparse_output=False), nominal_features)\n",
    "    ],\n",
    "    remainder='drop'  # Drop columns not specified (like 'Country')\n",
    ")\n",
    "\n",
    "print(\"✅ Preprocessing pipeline created.\")"
   ]
  },
  {
   "cell_type": "code",
   "execution_count": 22,
   "id": "ce6e4b5a",
   "metadata": {},
   "outputs": [
    {
     "name": "stdout",
     "output_type": "stream",
     "text": [
      "Shape of processed training data: (40000, 25)\n",
      "Shape of processed testing data: (10000, 25)\n",
      "\n",
      "✅ Data is preprocessed and ready for model training!\n"
     ]
    }
   ],
   "source": [
    "from sklearn.model_selection import train_test_split\n",
    "\n",
    "TARGET_COLUMN = 'Mental_Health_Condition'\n",
    "# Convert the target variable 'Yes'/'No' to 1/0\n",
    "df[TARGET_COLUMN] = df[TARGET_COLUMN].map({'Yes': 1, 'No': 0})\n",
    "\n",
    "# Separate features (X) and target (y) from the dataframe\n",
    "X = df.drop(TARGET_COLUMN, axis=1)\n",
    "y = df[TARGET_COLUMN]\n",
    "\n",
    "# Split data into 80% training and 20% testing\n",
    "X_train, X_test, y_train, y_test = train_test_split(\n",
    "    X, y,\n",
    "    test_size=0.2,\n",
    "    random_state=42,\n",
    "    stratify=y  # Essential for balanced classes\n",
    ")\n",
    "\n",
    "# Fit the preprocessor on the training data and transform both sets\n",
    "X_train_processed = preprocessor.fit_transform(X_train)\n",
    "X_test_processed = preprocessor.transform(X_test)\n",
    "\n",
    "print(f\"Shape of processed training data: {X_train_processed.shape}\")\n",
    "print(f\"Shape of processed testing data: {X_test_processed.shape}\")\n",
    "print(\"\\n✅ Data is preprocessed and ready for model training!\")"
   ]
  },
  {
   "cell_type": "code",
   "execution_count": 23,
   "id": "bbafbb16",
   "metadata": {},
   "outputs": [
    {
     "name": "stderr",
     "output_type": "stream",
     "text": [
      "d:\\Projects\\Final Year Project\\Mental Health Trend\\venv\\Lib\\site-packages\\keras\\src\\layers\\core\\dense.py:93: UserWarning: Do not pass an `input_shape`/`input_dim` argument to a layer. When using Sequential models, prefer using an `Input(shape)` object as the first layer in the model instead.\n",
      "  super().__init__(activity_regularizer=activity_regularizer, **kwargs)\n"
     ]
    },
    {
     "data": {
      "text/html": [
       "<pre style=\"white-space:pre;overflow-x:auto;line-height:normal;font-family:Menlo,'DejaVu Sans Mono',consolas,'Courier New',monospace\"><span style=\"font-weight: bold\">Model: \"sequential\"</span>\n",
       "</pre>\n"
      ],
      "text/plain": [
       "\u001b[1mModel: \"sequential\"\u001b[0m\n"
      ]
     },
     "metadata": {},
     "output_type": "display_data"
    },
    {
     "data": {
      "text/html": [
       "<pre style=\"white-space:pre;overflow-x:auto;line-height:normal;font-family:Menlo,'DejaVu Sans Mono',consolas,'Courier New',monospace\">┏━━━━━━━━━━━━━━━━━━━━━━━━━━━━━━━━━┳━━━━━━━━━━━━━━━━━━━━━━━━┳━━━━━━━━━━━━━━━┓\n",
       "┃<span style=\"font-weight: bold\"> Layer (type)                    </span>┃<span style=\"font-weight: bold\"> Output Shape           </span>┃<span style=\"font-weight: bold\">       Param # </span>┃\n",
       "┡━━━━━━━━━━━━━━━━━━━━━━━━━━━━━━━━━╇━━━━━━━━━━━━━━━━━━━━━━━━╇━━━━━━━━━━━━━━━┩\n",
       "│ dense (<span style=\"color: #0087ff; text-decoration-color: #0087ff\">Dense</span>)                   │ (<span style=\"color: #00d7ff; text-decoration-color: #00d7ff\">None</span>, <span style=\"color: #00af00; text-decoration-color: #00af00\">64</span>)             │         <span style=\"color: #00af00; text-decoration-color: #00af00\">1,664</span> │\n",
       "├─────────────────────────────────┼────────────────────────┼───────────────┤\n",
       "│ dropout (<span style=\"color: #0087ff; text-decoration-color: #0087ff\">Dropout</span>)               │ (<span style=\"color: #00d7ff; text-decoration-color: #00d7ff\">None</span>, <span style=\"color: #00af00; text-decoration-color: #00af00\">64</span>)             │             <span style=\"color: #00af00; text-decoration-color: #00af00\">0</span> │\n",
       "├─────────────────────────────────┼────────────────────────┼───────────────┤\n",
       "│ dense_1 (<span style=\"color: #0087ff; text-decoration-color: #0087ff\">Dense</span>)                 │ (<span style=\"color: #00d7ff; text-decoration-color: #00d7ff\">None</span>, <span style=\"color: #00af00; text-decoration-color: #00af00\">32</span>)             │         <span style=\"color: #00af00; text-decoration-color: #00af00\">2,080</span> │\n",
       "├─────────────────────────────────┼────────────────────────┼───────────────┤\n",
       "│ dropout_1 (<span style=\"color: #0087ff; text-decoration-color: #0087ff\">Dropout</span>)             │ (<span style=\"color: #00d7ff; text-decoration-color: #00d7ff\">None</span>, <span style=\"color: #00af00; text-decoration-color: #00af00\">32</span>)             │             <span style=\"color: #00af00; text-decoration-color: #00af00\">0</span> │\n",
       "├─────────────────────────────────┼────────────────────────┼───────────────┤\n",
       "│ dense_2 (<span style=\"color: #0087ff; text-decoration-color: #0087ff\">Dense</span>)                 │ (<span style=\"color: #00d7ff; text-decoration-color: #00d7ff\">None</span>, <span style=\"color: #00af00; text-decoration-color: #00af00\">1</span>)              │            <span style=\"color: #00af00; text-decoration-color: #00af00\">33</span> │\n",
       "└─────────────────────────────────┴────────────────────────┴───────────────┘\n",
       "</pre>\n"
      ],
      "text/plain": [
       "┏━━━━━━━━━━━━━━━━━━━━━━━━━━━━━━━━━┳━━━━━━━━━━━━━━━━━━━━━━━━┳━━━━━━━━━━━━━━━┓\n",
       "┃\u001b[1m \u001b[0m\u001b[1mLayer (type)                   \u001b[0m\u001b[1m \u001b[0m┃\u001b[1m \u001b[0m\u001b[1mOutput Shape          \u001b[0m\u001b[1m \u001b[0m┃\u001b[1m \u001b[0m\u001b[1m      Param #\u001b[0m\u001b[1m \u001b[0m┃\n",
       "┡━━━━━━━━━━━━━━━━━━━━━━━━━━━━━━━━━╇━━━━━━━━━━━━━━━━━━━━━━━━╇━━━━━━━━━━━━━━━┩\n",
       "│ dense (\u001b[38;5;33mDense\u001b[0m)                   │ (\u001b[38;5;45mNone\u001b[0m, \u001b[38;5;34m64\u001b[0m)             │         \u001b[38;5;34m1,664\u001b[0m │\n",
       "├─────────────────────────────────┼────────────────────────┼───────────────┤\n",
       "│ dropout (\u001b[38;5;33mDropout\u001b[0m)               │ (\u001b[38;5;45mNone\u001b[0m, \u001b[38;5;34m64\u001b[0m)             │             \u001b[38;5;34m0\u001b[0m │\n",
       "├─────────────────────────────────┼────────────────────────┼───────────────┤\n",
       "│ dense_1 (\u001b[38;5;33mDense\u001b[0m)                 │ (\u001b[38;5;45mNone\u001b[0m, \u001b[38;5;34m32\u001b[0m)             │         \u001b[38;5;34m2,080\u001b[0m │\n",
       "├─────────────────────────────────┼────────────────────────┼───────────────┤\n",
       "│ dropout_1 (\u001b[38;5;33mDropout\u001b[0m)             │ (\u001b[38;5;45mNone\u001b[0m, \u001b[38;5;34m32\u001b[0m)             │             \u001b[38;5;34m0\u001b[0m │\n",
       "├─────────────────────────────────┼────────────────────────┼───────────────┤\n",
       "│ dense_2 (\u001b[38;5;33mDense\u001b[0m)                 │ (\u001b[38;5;45mNone\u001b[0m, \u001b[38;5;34m1\u001b[0m)              │            \u001b[38;5;34m33\u001b[0m │\n",
       "└─────────────────────────────────┴────────────────────────┴───────────────┘\n"
      ]
     },
     "metadata": {},
     "output_type": "display_data"
    },
    {
     "data": {
      "text/html": [
       "<pre style=\"white-space:pre;overflow-x:auto;line-height:normal;font-family:Menlo,'DejaVu Sans Mono',consolas,'Courier New',monospace\"><span style=\"font-weight: bold\"> Total params: </span><span style=\"color: #00af00; text-decoration-color: #00af00\">3,777</span> (14.75 KB)\n",
       "</pre>\n"
      ],
      "text/plain": [
       "\u001b[1m Total params: \u001b[0m\u001b[38;5;34m3,777\u001b[0m (14.75 KB)\n"
      ]
     },
     "metadata": {},
     "output_type": "display_data"
    },
    {
     "data": {
      "text/html": [
       "<pre style=\"white-space:pre;overflow-x:auto;line-height:normal;font-family:Menlo,'DejaVu Sans Mono',consolas,'Courier New',monospace\"><span style=\"font-weight: bold\"> Trainable params: </span><span style=\"color: #00af00; text-decoration-color: #00af00\">3,777</span> (14.75 KB)\n",
       "</pre>\n"
      ],
      "text/plain": [
       "\u001b[1m Trainable params: \u001b[0m\u001b[38;5;34m3,777\u001b[0m (14.75 KB)\n"
      ]
     },
     "metadata": {},
     "output_type": "display_data"
    },
    {
     "data": {
      "text/html": [
       "<pre style=\"white-space:pre;overflow-x:auto;line-height:normal;font-family:Menlo,'DejaVu Sans Mono',consolas,'Courier New',monospace\"><span style=\"font-weight: bold\"> Non-trainable params: </span><span style=\"color: #00af00; text-decoration-color: #00af00\">0</span> (0.00 B)\n",
       "</pre>\n"
      ],
      "text/plain": [
       "\u001b[1m Non-trainable params: \u001b[0m\u001b[38;5;34m0\u001b[0m (0.00 B)\n"
      ]
     },
     "metadata": {},
     "output_type": "display_data"
    },
    {
     "name": "stdout",
     "output_type": "stream",
     "text": [
      "Epoch 1/100\n",
      "\u001b[1m625/625\u001b[0m \u001b[32m━━━━━━━━━━━━━━━━━━━━\u001b[0m\u001b[37m\u001b[0m \u001b[1m3s\u001b[0m 3ms/step - accuracy: 0.5036 - loss: 0.7066 - val_accuracy: 0.4950 - val_loss: 0.6936\n",
      "Epoch 2/100\n",
      "\u001b[1m625/625\u001b[0m \u001b[32m━━━━━━━━━━━━━━━━━━━━\u001b[0m\u001b[37m\u001b[0m \u001b[1m2s\u001b[0m 3ms/step - accuracy: 0.5066 - loss: 0.6937 - val_accuracy: 0.4981 - val_loss: 0.6934\n",
      "Epoch 3/100\n",
      "\u001b[1m625/625\u001b[0m \u001b[32m━━━━━━━━━━━━━━━━━━━━\u001b[0m\u001b[37m\u001b[0m \u001b[1m1s\u001b[0m 2ms/step - accuracy: 0.5035 - loss: 0.6934 - val_accuracy: 0.4994 - val_loss: 0.6932\n",
      "Epoch 4/100\n",
      "\u001b[1m625/625\u001b[0m \u001b[32m━━━━━━━━━━━━━━━━━━━━\u001b[0m\u001b[37m\u001b[0m \u001b[1m1s\u001b[0m 2ms/step - accuracy: 0.5091 - loss: 0.6930 - val_accuracy: 0.5030 - val_loss: 0.6931\n",
      "Epoch 5/100\n",
      "\u001b[1m625/625\u001b[0m \u001b[32m━━━━━━━━━━━━━━━━━━━━\u001b[0m\u001b[37m\u001b[0m \u001b[1m1s\u001b[0m 2ms/step - accuracy: 0.5158 - loss: 0.6926 - val_accuracy: 0.4965 - val_loss: 0.6932\n",
      "Epoch 6/100\n",
      "\u001b[1m625/625\u001b[0m \u001b[32m━━━━━━━━━━━━━━━━━━━━\u001b[0m\u001b[37m\u001b[0m \u001b[1m1s\u001b[0m 2ms/step - accuracy: 0.5056 - loss: 0.6927 - val_accuracy: 0.5001 - val_loss: 0.6933\n",
      "Epoch 7/100\n",
      "\u001b[1m625/625\u001b[0m \u001b[32m━━━━━━━━━━━━━━━━━━━━\u001b[0m\u001b[37m\u001b[0m \u001b[1m1s\u001b[0m 2ms/step - accuracy: 0.5162 - loss: 0.6921 - val_accuracy: 0.5072 - val_loss: 0.6933\n",
      "Epoch 8/100\n",
      "\u001b[1m625/625\u001b[0m \u001b[32m━━━━━━━━━━━━━━━━━━━━\u001b[0m\u001b[37m\u001b[0m \u001b[1m1s\u001b[0m 2ms/step - accuracy: 0.5167 - loss: 0.6918 - val_accuracy: 0.4958 - val_loss: 0.6933\n",
      "Epoch 9/100\n",
      "\u001b[1m625/625\u001b[0m \u001b[32m━━━━━━━━━━━━━━━━━━━━\u001b[0m\u001b[37m\u001b[0m \u001b[1m2s\u001b[0m 2ms/step - accuracy: 0.5160 - loss: 0.6920 - val_accuracy: 0.4984 - val_loss: 0.6934\n",
      "Epoch 10/100\n",
      "\u001b[1m625/625\u001b[0m \u001b[32m━━━━━━━━━━━━━━━━━━━━\u001b[0m\u001b[37m\u001b[0m \u001b[1m1s\u001b[0m 2ms/step - accuracy: 0.5187 - loss: 0.6914 - val_accuracy: 0.5011 - val_loss: 0.6934\n",
      "Epoch 11/100\n",
      "\u001b[1m625/625\u001b[0m \u001b[32m━━━━━━━━━━━━━━━━━━━━\u001b[0m\u001b[37m\u001b[0m \u001b[1m2s\u001b[0m 4ms/step - accuracy: 0.5231 - loss: 0.6912 - val_accuracy: 0.5021 - val_loss: 0.6938\n",
      "Epoch 12/100\n",
      "\u001b[1m625/625\u001b[0m \u001b[32m━━━━━━━━━━━━━━━━━━━━\u001b[0m\u001b[37m\u001b[0m \u001b[1m2s\u001b[0m 4ms/step - accuracy: 0.5204 - loss: 0.6916 - val_accuracy: 0.5028 - val_loss: 0.6937\n",
      "Epoch 13/100\n",
      "\u001b[1m625/625\u001b[0m \u001b[32m━━━━━━━━━━━━━━━━━━━━\u001b[0m\u001b[37m\u001b[0m \u001b[1m3s\u001b[0m 4ms/step - accuracy: 0.5180 - loss: 0.6912 - val_accuracy: 0.4941 - val_loss: 0.6937\n",
      "Epoch 14/100\n",
      "\u001b[1m625/625\u001b[0m \u001b[32m━━━━━━━━━━━━━━━━━━━━\u001b[0m\u001b[37m\u001b[0m \u001b[1m3s\u001b[0m 4ms/step - accuracy: 0.5231 - loss: 0.6913 - val_accuracy: 0.4943 - val_loss: 0.6940\n"
     ]
    }
   ],
   "source": [
    "import tensorflow as tf\n",
    "from tensorflow.keras.models import Sequential\n",
    "from tensorflow.keras.layers import Dense, Dropout\n",
    "from tensorflow.keras.callbacks import EarlyStopping\n",
    "\n",
    "model = Sequential([\n",
    "    Dense(64, activation='relu', input_shape=(X_train_processed.shape[1],)),\n",
    "    Dropout(0.3),\n",
    "    Dense(32, activation='relu'),\n",
    "    Dropout(0.3),\n",
    "    Dense(1, activation='sigmoid')\n",
    "])\n",
    "\n",
    "model.compile(\n",
    "    optimizer='adam',\n",
    "    loss='binary_crossentropy',\n",
    "    metrics=['accuracy']\n",
    ")\n",
    "\n",
    "model.summary()\n",
    "\n",
    "# Define EarlyStopping\n",
    "early_stopping = EarlyStopping(\n",
    "    monitor='val_loss',\n",
    "    patience=10,\n",
    "    restore_best_weights=True\n",
    ")\n",
    "\n",
    "history = model.fit(\n",
    "    X_train_processed,\n",
    "    y_train,\n",
    "    epochs=100,\n",
    "    batch_size=64,\n",
    "    validation_data=(X_test_processed, y_test),\n",
    "    callbacks=[early_stopping],\n",
    "    verbose=1\n",
    ")"
   ]
  },
  {
   "cell_type": "code",
   "execution_count": 24,
   "id": "5d1b3dcc",
   "metadata": {},
   "outputs": [
    {
     "data": {
      "image/png": "[encoded data removed]",
      "text/plain": [
       "<Figure size 1000x600 with 1 Axes>"
      ]
     },
     "metadata": {},
     "output_type": "display_data"
    }
   ],
   "source": [
    "import matplotlib.pyplot as plt\n",
    "\n",
    "pd.DataFrame(history.history).plot(figsize=(10, 6))\n",
    "plt.grid(True)\n",
    "plt.gca().set_ylim(0, 1) # Set the y-axis range to [0, 1] for better visualization\n",
    "plt.title('Model Training History')\n",
    "plt.xlabel('Epoch')\n",
    "plt.show()"
   ]
  },
  {
   "cell_type": "code",
   "execution_count": 25,
   "id": "cb7d8c00",
   "metadata": {},
   "outputs": [
    {
     "name": "stdout",
     "output_type": "stream",
     "text": [
      "\u001b[1m313/313\u001b[0m \u001b[32m━━━━━━━━━━━━━━━━━━━━\u001b[0m\u001b[37m\u001b[0m \u001b[1m1s\u001b[0m 3ms/step - accuracy: 0.5035 - loss: 0.6930\n",
      "\n",
      "Final Test Accuracy: 50.30%\n",
      "Final Test Loss: 0.6931\n",
      "\u001b[1m313/313\u001b[0m \u001b[32m━━━━━━━━━━━━━━━━━━━━\u001b[0m\u001b[37m\u001b[0m \u001b[1m1s\u001b[0m 2ms/step\n",
      "\n",
      "--- Classification Report ---\n",
      "               precision    recall  f1-score   support\n",
      "\n",
      " No Condition       0.50      0.57      0.54      5001\n",
      "Has Condition       0.50      0.43      0.47      4999\n",
      "\n",
      "     accuracy                           0.50     10000\n",
      "    macro avg       0.50      0.50      0.50     10000\n",
      " weighted avg       0.50      0.50      0.50     10000\n",
      "\n",
      "\n",
      "--- Confusion Matrix ---\n"
     ]
    },
    {
     "data": {
      "image/png": "[encoded data removed]",
      "text/plain": [
       "<Figure size 640x480 with 2 Axes>"
      ]
     },
     "metadata": {},
     "output_type": "display_data"
    }
   ],
   "source": [
    "from sklearn.metrics import classification_report, confusion_matrix, accuracy_score\n",
    "import seaborn as sns\n",
    "\n",
    "loss, accuracy = model.evaluate(X_test_processed, y_test)\n",
    "print(f\"\\nFinal Test Accuracy: {accuracy*100:.2f}%\")\n",
    "print(f\"Final Test Loss: {loss:.4f}\")\n",
    "\n",
    "# Generate predictions\n",
    "y_pred_prob = model.predict(X_test_processed)\n",
    "y_pred = (y_pred_prob > 0.5).astype(int).flatten()\n",
    "\n",
    "# Display detailed performance metrics\n",
    "print(\"\\n--- Classification Report ---\")\n",
    "print(classification_report(y_test, y_pred, target_names=['No Condition', 'Has Condition']))\n",
    "\n",
    "print(\"\\n--- Confusion Matrix ---\")\n",
    "cm = confusion_matrix(y_test, y_pred)\n",
    "sns.heatmap(cm, annot=True, fmt='d', cmap='Blues', xticklabels=['No Condition', 'Has Condition'], yticklabels=['No Condition', 'Has Condition'])\n",
    "plt.xlabel('Predicted')\n",
    "plt.ylabel('Actual')\n",
    "plt.show()"
   ]
  }
 ],
 "metadata": {
  "kernelspec": {
   "display_name": "Python 3",
   "language": "python",
   "name": "python3"
  },
  "language_info": {
   "codemirror_mode": {
    "name": "ipython",
    "version": 3
   },
   "file_extension": ".py",
   "mimetype": "text/x-python",
   "name": "python",
   "nbconvert_exporter": "python",
   "pygments_lexer": "ipython3",
   "version": "3.12.0"
  }
 },
 "nbformat": 4,
 "nbformat_minor": 5
}
